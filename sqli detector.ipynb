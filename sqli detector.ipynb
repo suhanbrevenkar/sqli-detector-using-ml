{
 "cells": [
  {
   "cell_type": "code",
   "execution_count": 2,
   "id": "a781babe",
   "metadata": {
    "scrolled": true
   },
   "outputs": [
    {
     "ename": "ModuleNotFoundError",
     "evalue": "No module named 'pycaret'",
     "output_type": "error",
     "traceback": [
      "\u001b[0;31m---------------------------------------------------------------------------\u001b[0m",
      "\u001b[0;31mModuleNotFoundError\u001b[0m                       Traceback (most recent call last)",
      "Cell \u001b[0;32mIn [2], line 1\u001b[0m\n\u001b[0;32m----> 1\u001b[0m \u001b[38;5;28;01mimport\u001b[39;00m \u001b[38;5;21;01mpycaret\u001b[39;00m\n\u001b[1;32m      2\u001b[0m \u001b[38;5;28;01mimport\u001b[39;00m \u001b[38;5;21;01mnumpy\u001b[39;00m\n\u001b[1;32m      3\u001b[0m \u001b[38;5;28;01mfrom\u001b[39;00m \u001b[38;5;21;01mhttp\u001b[39;00m\u001b[38;5;21;01m.\u001b[39;00m\u001b[38;5;21;01mserver\u001b[39;00m \u001b[38;5;28;01mimport\u001b[39;00m SimpleHTTPRequestHandler, HTTPServer\n",
      "\u001b[0;31mModuleNotFoundError\u001b[0m: No module named 'pycaret'"
     ]
    }
   ],
   "source": [
    "import pycaret\n",
    "import numpy\n",
    "from http.server import SimpleHTTPRequestHandler, HTTPServer\n",
    "from urllib import request, error\n",
    "import pandas as pd\n",
    "from pycaret.clustering import *\n",
    "import urllib.parse\n",
    "import os,sys\n",
    "print(\"done...\")\n",
    "\n",
    "badwords = ['CREATE','TRUNCATE','truncate','DISTINCT','distinct','create','DELAY', 'group','ROWS', 'UPDATE', 'update', 'or', 'FETCH', 'INNER', 'NULL', 'SELECT', 'from','WAITFOR','waitfor', 'insert', 'PERCENT', 'between', 'like', 'null', 'select', 'and', 'FROM', 'BENCHMARK', 'SYSTEM', 'BETWEEN', 'benchmark', 'union', 'ALL', 'order', 'by', 'group' 'by', 'UID', 'concat', 'IN', 'OR', 'JOIN', 'delay', 'GROUP', 'BY', 'system', 'sum', 'LIKE', 'avg', 'having', 'uid', 'drop', 'chr', 'LIMIT', 'percent', 'limit', 'as', 'count', 'UNION', 'join', 'where', 'delete', 'WHERE', 'all', 'AVG', 'AND', 'COUNT', 'AS', 'rows', 'SLEEP', 'fetch', 'SUM', 'INSERT', 'in', 'HAVING', 'CONCAT', 'ORDER', 'BY', 'CHR', 'sleep', 'inner', 'DELETE', 'DROP']\n",
    "python3 -m pip install --upgrade pip\n",
    "def ExtractFeatures(path):\n",
    "    path = urllib.parse.unquote(path)\n",
    "    badwords_count=0\n",
    "    single_q = path.count(\"'\")\n",
    "    double_q = path.count(\"\\\"\")\n",
    "    dash = path.count(\"--\")+path.count(\"-\")\n",
    "    braces = path.count(\"(\")+path.count(\")\")\n",
    "    spaces = path.count(\" \")\n",
    "    \n",
    "    for word in badwords:\n",
    "        badwords_count += path.count(word)\n",
    "    lst = [single_q,double_q,dashes,braces,spaces,badwords_count]\n",
    "    print(lst)\n",
    "    return pd.DataFrame([lst],columns = ['single_q','double_q','dashes','braces','spaces','badwords'])"
   ]
  },
  {
   "cell_type": "code",
   "execution_count": null,
   "id": "ca8d2388",
   "metadata": {},
   "outputs": [],
   "source": [
    "#Training Model\n",
    "http = pd.read_csv(r'/home/asdf/Desktop/final_dat.csv')\n",
    "clus1 = setup(data = http, normalize = True, numeric_features = ['single_q','double_q','dashes','braces','spaces','badwords'], ignore_features = ['method','body'])\n",
    "kmeans = create_model('kmeans',num_cluster = 2)"
   ]
  },
  {
   "cell_type": "code",
   "execution_count": null,
   "id": "41ee0a3c",
   "metadata": {
    "scrolled": true
   },
   "outputs": [],
   "source": [
    "class SimpleHTTPProxy(SimpleHTTPRequestHandler):\n",
    "    proxy_routes = {}\n",
    "\n",
    "    @classmethod\n",
    "    def set_routes(cls, proxy_routes):\n",
    "        cls.proxy_routes = proxy_routes\n",
    "\n",
    "    def do_GET(self):\n",
    "    #print (self.proxy_routes)\n",
    "    #print(self.path)\n",
    "        parts = self.path.split(\"/\")\n",
    "        print (parts)\n",
    "        live_data = ExtractFeatures(parts[3])\n",
    "        result = predict_model(kmeans, data = live_data)\n",
    "        print(result['Cluster'][0])\n",
    "        if result['Cluster'][0] == \"Cluster 1\": \n",
    "            print(\"Intrusion Detected\")\n",
    "            #print (parts, Len(parts), parts[1])\n",
    "        if len(parts) >= 2:\n",
    "            #url self.proxy_routes[parts[2]]+'/'.join(parts[2:])\n",
    "            #print(url)\n",
    "            self.porxy_request('http://'+parts[2]+'/')\n",
    "        else:\n",
    "            super().do_GET()\n",
    "\n",
    "    def porxy_request(self, url):\n",
    "        #print (\"prixy req')\n",
    "        #exit()\n",
    "        try:\n",
    "            response = request.urlopen(url)\n",
    "        except error.HTTPError as e:\n",
    "            print ('err')\n",
    "            self.send_response_only(e.code)\n",
    "            self.end_headers()\n",
    "            return\n",
    "        self.send_response_only (response.status)\n",
    "        for name, value in response.headers.items():\n",
    "            self.send_header(name, value)\n",
    "        self.end_headers()\n",
    "        self.copyfile(response, self.wfile)\n",
    "SimpleHTTPProxy.set_routes({'proxy_route': 'http://demo.testfire.net/'}) \n",
    "with HTTPServer(('127.0.0.1', 8080), SimpleHTTPProxy) as httpd:\n",
    "    host, port = httpd.socket.getsockname()\n",
    "    print (f'Listening on http://{host}:{port}')\n",
    "    try:\n",
    "        httpd.serve_forever()\n",
    "    except KeyboardInterrupt:\n",
    "        print(\"\\nkeyboard interrupt received, exiting.\")"
   ]
  },
  {
   "cell_type": "code",
   "execution_count": null,
   "id": "7db414a6",
   "metadata": {
    "scrolled": false
   },
   "outputs": [],
   "source": []
  },
  {
   "cell_type": "code",
   "execution_count": null,
   "id": "ddbfdfd9",
   "metadata": {},
   "outputs": [],
   "source": []
  },
  {
   "cell_type": "code",
   "execution_count": null,
   "id": "fdbc88c5",
   "metadata": {},
   "outputs": [],
   "source": []
  },
  {
   "cell_type": "code",
   "execution_count": null,
   "id": "c90fd81c",
   "metadata": {},
   "outputs": [],
   "source": []
  },
  {
   "cell_type": "code",
   "execution_count": null,
   "id": "0f782680",
   "metadata": {},
   "outputs": [],
   "source": []
  },
  {
   "cell_type": "code",
   "execution_count": null,
   "id": "eff42778",
   "metadata": {},
   "outputs": [],
   "source": []
  },
  {
   "cell_type": "code",
   "execution_count": null,
   "id": "f968b30a",
   "metadata": {},
   "outputs": [],
   "source": []
  },
  {
   "cell_type": "code",
   "execution_count": null,
   "id": "ede01a47",
   "metadata": {},
   "outputs": [],
   "source": []
  },
  {
   "cell_type": "code",
   "execution_count": null,
   "id": "541c8fbe",
   "metadata": {},
   "outputs": [],
   "source": []
  },
  {
   "cell_type": "code",
   "execution_count": null,
   "id": "b84010bd",
   "metadata": {},
   "outputs": [],
   "source": []
  },
  {
   "cell_type": "code",
   "execution_count": null,
   "id": "eda26f3f",
   "metadata": {},
   "outputs": [],
   "source": []
  },
  {
   "cell_type": "code",
   "execution_count": null,
   "id": "b206e44b",
   "metadata": {},
   "outputs": [],
   "source": []
  },
  {
   "cell_type": "code",
   "execution_count": null,
   "id": "03f15149",
   "metadata": {},
   "outputs": [],
   "source": []
  },
  {
   "cell_type": "code",
   "execution_count": null,
   "id": "7325dbf6",
   "metadata": {
    "scrolled": true
   },
   "outputs": [],
   "source": []
  },
  {
   "cell_type": "code",
   "execution_count": null,
   "id": "1a301707",
   "metadata": {},
   "outputs": [],
   "source": []
  }
 ],
 "metadata": {
  "kernelspec": {
   "display_name": "Python 3 (ipykernel)",
   "language": "python",
   "name": "python3"
  },
  "language_info": {
   "codemirror_mode": {
    "name": "ipython",
    "version": 3
   },
   "file_extension": ".py",
   "mimetype": "text/x-python",
   "name": "python",
   "nbconvert_exporter": "python",
   "pygments_lexer": "ipython3",
   "version": "3.10.8"
  }
 },
 "nbformat": 4,
 "nbformat_minor": 5
}
